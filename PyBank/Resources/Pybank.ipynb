{
 "cells": [
  {
   "cell_type": "code",
   "execution_count": 1,
   "metadata": {},
   "outputs": [],
   "source": [
    "import os\n",
    "import csv\n",
    "\n",
    "# path to data file\n",
    "budget_data_csv = os.path.join(\"..\",\"Resources\", \"budget_data.csv\")"
   ]
  },
  {
   "cell_type": "code",
   "execution_count": 2,
   "metadata": {},
   "outputs": [],
   "source": [
    "#variables\n",
    "greatest_monthly_profit = 0\n",
    "lowest_monthly_profit = 0\n",
    "total = 0\n",
    "month_count = 0\n",
    "prior_profit = 0\n",
    "difference = []"
   ]
  },
  {
   "cell_type": "code",
   "execution_count": 3,
   "metadata": {},
   "outputs": [
    {
     "name": "stdout",
     "output_type": "stream",
     "text": [
      "=========================================================================\n",
      "                       Pybank Bank Data                             \n",
      "=========================================================================\n",
      "Total Months: 86\n",
      "Total: $38382578\n",
      "Average Change: $446309\n",
      "Greatest increase in profits: Feb-2012, ($1926159)\n",
      "Greatest decrease in profits: Sep-2013, ($-2196167)\n",
      "---END REPORT---\n"
     ]
    }
   ],
   "source": [
    "#read the csv file\n",
    "with open(budget_data_csv, newline=\"\") as csvfile:\n",
    "    csvreader = csv.reader(csvfile, delimiter=\",\")\n",
    "    csv_header = next(csvreader)\n",
    "    \n",
    "    for row in csvreader:\n",
    "        num = float(row[1])\n",
    "        #This is the Total\n",
    "        total += num\n",
    "        #this is the Total Months\n",
    "        month_count += 1\n",
    "\n",
    "# average of the changes\n",
    "       \n",
    "        difference.append(float(row[1]))\n",
    "        avg_change = round(sum(difference)/month_count)\n",
    "\n",
    "# keep track of prior and current values in loop\n",
    "    \n",
    "        monthly_profit_change = float(row[1]) - prior_profit\n",
    "        prior_profit = float(row[1])\n",
    "        \n",
    "#Greatest increase in profits\n",
    "        if monthly_profit_change > greatest_monthly_profit:\n",
    "            greatest_monthly_profit = monthly_profit_change\n",
    "            greatest_month = row[0]\n",
    "\n",
    "#Greatest decrease in profits\n",
    "\n",
    "        if monthly_profit_change < lowest_monthly_profit:\n",
    "            lowest_monthly_profit = monthly_profit_change\n",
    "            lowest_month = row[0]\n",
    "\n",
    "total = round(total)\n",
    "greatest_monthly_profit = round(greatest_monthly_profit)\n",
    "lowest_monthly_profit = round(lowest_monthly_profit)\n",
    "budget_data_output = (\n",
    "f'=========================================================================\\n' \n",
    "f'                       Pybank Bank Data                             \\n'\n",
    "f'=========================================================================\\n'\n",
    "f'Total Months: {month_count}\\n'\n",
    "f'Total: ${total}\\n'\n",
    "f'Average Change: ${avg_change}\\n'\n",
    "f'Greatest increase in profits: {greatest_month}, (${greatest_monthly_profit})\\n'\n",
    "f'Greatest decrease in profits: {lowest_month}, (${lowest_monthly_profit})\\n'\n",
    "f'---END REPORT---')\n",
    "\n",
    "print(budget_data_output)\n",
    "\n"
   ]
  },
  {
   "cell_type": "code",
   "execution_count": 4,
   "metadata": {},
   "outputs": [],
   "source": [
    "budget_output_file = os.path.join(\"..\", \"budget_data.txt\")\n",
    "with open(budget_output_file, 'w') as textfile:\n",
    "    textfile.write(f'Total Months: {month_count}')\n",
    "    textfile.write(f\"Average Change: {avg_change}\")\n",
    "    textfile.write(f'Total: ${total}')\n",
    "    textfile.write(f'Greatest increase in profits: {greatest_month}, (${greatest_monthly_profit})\\n')\n",
    "    textfile.write(f'Greatest decrease in profits: {lowest_month}, (${lowest_monthly_profit})\\n')"
   ]
  },
  {
   "cell_type": "code",
   "execution_count": null,
   "metadata": {},
   "outputs": [],
   "source": []
  }
 ],
 "metadata": {
  "kernelspec": {
   "display_name": "Python 3",
   "language": "python",
   "name": "python3"
  },
  "language_info": {
   "codemirror_mode": {
    "name": "ipython",
    "version": 3
   },
   "file_extension": ".py",
   "mimetype": "text/x-python",
   "name": "python",
   "nbconvert_exporter": "python",
   "pygments_lexer": "ipython3",
   "version": "3.7.6"
  }
 },
 "nbformat": 4,
 "nbformat_minor": 4
}
