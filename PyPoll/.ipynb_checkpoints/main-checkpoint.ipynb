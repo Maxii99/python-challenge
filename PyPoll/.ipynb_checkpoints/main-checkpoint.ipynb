{
 "cells": [
  {
   "cell_type": "code",
   "execution_count": 1,
   "metadata": {},
   "outputs": [],
   "source": [
    "import os\n",
    "import csv\n",
    "poll_csvpath= os.path.join('..', 'Resources','election_data.csv')"
   ]
  },
  {
   "cell_type": "code",
   "execution_count": 2,
   "metadata": {},
   "outputs": [],
   "source": [
    "# Define variables of interest\n",
    "total_votes =[]\n",
    "unique_candidates= []\n",
    "vote_count = []\n",
    "# Set initial condition\n",
    "total_votes = 0"
   ]
  },
  {
   "cell_type": "code",
   "execution_count": null,
   "metadata": {},
   "outputs": [],
   "source": [
    "# Read the csv file with open\n",
    "with open(poll_csvpath, newline= \" \")as csvfile:\n",
    "    csvreader = csv.reader(csvfile, delimeter= \",\")\n",
    "    csv_header = next(csvreader)\n",
    "# Calculate the total votes cast by counting rows.  Use the incrementer function\n",
    "for row in csvreader:\n",
    "    total_votes += 1\n",
    "\n",
    "# Find a candidate in column 3 using index: Locate candidate already in list by index number and increment vote count by 1\n",
    "    candidate = row([2])\n",
    "    if candidate in unique_candidates:\n",
    "        candidate_index = uniquie_candidates.index(candidate)\n",
    "        vote_count[candidate_index]= vote_count[candidate_index] + 1\n",
    "# else append unique_candidates list and add 1 to vote_count:\n",
    "    else:\n",
    "        unique_candidates.append(candidate)\n",
    "        vote_count.append(1)\n",
    "# Print the following variables:\n",
    "# Total Votes:\n",
    "# print(f\"Total votes: {total_votes}\")\n",
    "# Unique canditates:\n",
    "# print(f\"Each candidate: {unique_canditates}\")\n",
    "# index of unique candidates:\n",
    "# print(f\"Index: {unique_candidates.index(candidate)})\n",
    "\n",
    "percent = []\n",
    "max_vote = vote_count[0]\n",
    "max_vote_index =0\n",
    "\n",
    "for x in range(len(unique_candidates)):\n",
    "    vote_percent = round(vote_count[x])/total_votes*100, 2)\n",
    "    percent.append(vote_percent)\n",
    "    \n",
    "    if vote_count[x] > max_vote:\n",
    "        max_vote = vote_count[x]\n",
    "        max_vote_index = x\n",
    "        \n",
    "Election_winner = unique_candidates[max_vote_index]\n",
    "# print(f'-----------------------------------------------------')\n",
    "# Print the following results:\n",
    "# print(f'Each candidaate's vote count: {vote_count}')\n",
    "# print(f'Maximum votes: {max_votes}')\n",
    "# print(f'Election winner: {Election_winner})\n",
    "# print(f'-----------------------------------------------------')\n",
    "\n",
    "      \n",
    "    \n"
   ]
  }
 ],
 "metadata": {
  "kernelspec": {
   "display_name": "Python 3",
   "language": "python",
   "name": "python3"
  },
  "language_info": {
   "codemirror_mode": {
    "name": "ipython",
    "version": 3
   },
   "file_extension": ".py",
   "mimetype": "text/x-python",
   "name": "python",
   "nbconvert_exporter": "python",
   "pygments_lexer": "ipython3",
   "version": "3.7.6"
  }
 },
 "nbformat": 4,
 "nbformat_minor": 4
}
