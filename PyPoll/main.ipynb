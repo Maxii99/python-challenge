{
 "cells": [
  {
   "cell_type": "code",
   "execution_count": 13,
   "metadata": {},
   "outputs": [],
   "source": [
    "import os\n",
    "import csv\n",
    "poll_csvpath= os.path.join(\"/Resources/election_data.csv\")"
   ]
  },
  {
   "cell_type": "code",
   "execution_count": 14,
   "metadata": {},
   "outputs": [],
   "source": [
    "# Define variables of interest\n",
    "total_votes =[]\n",
    "unique_candidates= []\n",
    "vote_count = []\n",
    "# Set initial condition\n",
    "total_votes = 0"
   ]
  },
  {
   "cell_type": "code",
   "execution_count": 15,
   "metadata": {},
   "outputs": [
    {
     "ename": "FileNotFoundError",
     "evalue": "[Errno 2] No such file or directory: 'PyPoll/Resources/election_data.csv'",
     "output_type": "error",
     "traceback": [
      "\u001b[0;31m---------------------------------------------------------------------------\u001b[0m",
      "\u001b[0;31mFileNotFoundError\u001b[0m                         Traceback (most recent call last)",
      "\u001b[0;32m<ipython-input-15-d9d7d13fd672>\u001b[0m in \u001b[0;36m<module>\u001b[0;34m\u001b[0m\n\u001b[1;32m      1\u001b[0m \u001b[0;31m# Read the csv file with open\u001b[0m\u001b[0;34m\u001b[0m\u001b[0;34m\u001b[0m\u001b[0;34m\u001b[0m\u001b[0m\n\u001b[0;32m----> 2\u001b[0;31m \u001b[0;32mwith\u001b[0m \u001b[0mopen\u001b[0m\u001b[0;34m(\u001b[0m\u001b[0mpoll_csvpath\u001b[0m\u001b[0;34m,\u001b[0m \u001b[0mnewline\u001b[0m\u001b[0;34m=\u001b[0m \u001b[0;34m\" \"\u001b[0m\u001b[0;34m)\u001b[0m\u001b[0;32mas\u001b[0m \u001b[0mcsvfile\u001b[0m\u001b[0;34m:\u001b[0m\u001b[0;34m\u001b[0m\u001b[0;34m\u001b[0m\u001b[0m\n\u001b[0m\u001b[1;32m      3\u001b[0m     \u001b[0mcsvreader\u001b[0m \u001b[0;34m=\u001b[0m \u001b[0mcsv\u001b[0m\u001b[0;34m.\u001b[0m\u001b[0mreader\u001b[0m\u001b[0;34m(\u001b[0m\u001b[0mcsvfile\u001b[0m\u001b[0;34m,\u001b[0m \u001b[0mdelimeter\u001b[0m\u001b[0;34m=\u001b[0m \u001b[0;34m\",\"\u001b[0m\u001b[0;34m)\u001b[0m\u001b[0;34m\u001b[0m\u001b[0;34m\u001b[0m\u001b[0m\n\u001b[1;32m      4\u001b[0m     \u001b[0mcsv_header\u001b[0m \u001b[0;34m=\u001b[0m \u001b[0mnext\u001b[0m\u001b[0;34m(\u001b[0m\u001b[0mcsvreader\u001b[0m\u001b[0;34m)\u001b[0m\u001b[0;34m\u001b[0m\u001b[0;34m\u001b[0m\u001b[0m\n\u001b[1;32m      5\u001b[0m \u001b[0;31m# Calculate the total votes cast by counting rows.  Use the incrementer function\u001b[0m\u001b[0;34m\u001b[0m\u001b[0;34m\u001b[0m\u001b[0;34m\u001b[0m\u001b[0m\n",
      "\u001b[0;31mFileNotFoundError\u001b[0m: [Errno 2] No such file or directory: 'PyPoll/Resources/election_data.csv'"
     ]
    }
   ],
   "source": [
    "# Read the csv file with open\n",
    "with open(poll_csvpath, newline= \" \")as csvfile:\n",
    "    csvreader = csv.reader(csvfile, delimeter= \",\")\n",
    "    csv_header = next(csvreader)\n",
    "# Calculate the total votes cast by counting rows.  Use the incrementer function\n",
    "for row in csvreader:\n",
    "    total_votes += 1\n",
    "\n",
    "# Find a candidate in column 3 using index: Locate candidate already in list by index number and increment vote count by 1\n",
    "    candidate = row([2])\n",
    "    if candidate in unique_candidates:\n",
    "        candidate_index = uniquie_candidates.index(candidate)\n",
    "        vote_count[candidate_index]= vote_count[candidate_index] + 1\n",
    "# else append unique_candidates list and add 1 to vote_count:\n",
    "    else:\n",
    "        unique_candidates.append(candidate)\n",
    "        vote_count.append(1)\n",
    "# Print the following variables:\n",
    "# Total Votes:\n",
    "# print(f\"Total votes: {total_votes}\")\n",
    "# Unique canditates:\n",
    "# print(f\"Each candidate: {unique_canditates}\")\n",
    "# index of unique candidates:\n",
    "# print(f\"Index: {unique_candidates.index(candidate)})\n",
    "\n",
    "percent = []\n",
    "max_vote = vote_count[0]\n",
    "max_vote_index =0\n",
    "\n",
    "for x in range(len(unique_candidates)):\n",
    "    vote_percent = round(vote_count([x])/total_votes*100, 2)\n",
    "    percent.append(vote_percent)\n",
    "    \n",
    "    if vote_count[x] > max_vote:\n",
    "        max_vote = vote_count[x]\n",
    "        max_vote_index = x\n",
    "        \n",
    "Election_winner = unique_candidates[max_vote_index]\n",
    "# print(f'-----------------------------------------------------')\n",
    "# Print the following results:\n",
    "# print(f'Each candidaate's vote count: {vote_count}')\n",
    "# print(f'Maximum votes: {max_votes}')\n",
    "# print(f'Election winner: {Election_winner})\n",
    "# print(f'-----------------------------------------------------')\n",
    "\n",
    "# What else? Check\n",
    "\n",
    "# Now create ouput file\n",
    "\n",
    "output_file = os.path.join(\"election_data.csv\")\n",
    "#  open output file\n",
    "\n",
    "with open(out_file, \"w\", newline = \" \") as textfile:\n",
    "    \n",
    "    textfle.write(f\"===============================================================\\n\")\n",
    "    textfle.write(f\"Election Results\\n\")\n",
    "    \n",
    "    textfle.write(f\"===============================================================\\n\")\n",
    "    textfle.write(f\"Total Votes: {vote_count}\\n\")\n",
    "    textfle.write(f\"---------------------------------------------------------------\\n\")\n",
    "    textfle.write(f\"{unique_candidates[x]}: {percent[x]}% {vote_count[x]}\\n\")\n",
    "    textfle.write(f\"---------------------------------------------------------------\\n\")\n",
    "    textfle.write(f\"Election winner: {elction_winner.upper()}\\n\")\n",
    "    \n",
    "    textfle.write(f\"---------------------------------------------------------------\\n\")\n",
    "    textfle.write(f\"Total Votes: {vote_count}\\n\")\n",
    "    \n"
   ]
  },
  {
   "cell_type": "code",
   "execution_count": null,
   "metadata": {},
   "outputs": [],
   "source": []
  },
  {
   "cell_type": "code",
   "execution_count": null,
   "metadata": {},
   "outputs": [],
   "source": []
  }
 ],
 "metadata": {
  "kernelspec": {
   "display_name": "Python 3",
   "language": "python",
   "name": "python3"
  },
  "language_info": {
   "codemirror_mode": {
    "name": "ipython",
    "version": 3
   },
   "file_extension": ".py",
   "mimetype": "text/x-python",
   "name": "python",
   "nbconvert_exporter": "python",
   "pygments_lexer": "ipython3",
   "version": "3.7.6"
  }
 },
 "nbformat": 4,
 "nbformat_minor": 4
}
