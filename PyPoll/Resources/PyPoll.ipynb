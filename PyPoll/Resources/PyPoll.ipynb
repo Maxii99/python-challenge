{
 "cells": [
  {
   "cell_type": "code",
   "execution_count": 1,
   "metadata": {},
   "outputs": [],
   "source": [
    "import os\n",
    "import csv\n",
    "poll_csvpath= os.path.join(\"..\",\"Resources\", \"election_data.csv\")"
   ]
  },
  {
   "cell_type": "code",
   "execution_count": 2,
   "metadata": {},
   "outputs": [],
   "source": [
    "# Define variables of interest\n",
    "candidate =[]\n",
    "unique_candidates= []\n",
    "vote_count = []\n",
    "# Set initial condition\n",
    "total_votes = 0"
   ]
  },
  {
   "cell_type": "code",
   "execution_count": 3,
   "metadata": {},
   "outputs": [
    {
     "name": "stdout",
     "output_type": "stream",
     "text": [
      "Total votes: 3521001\n",
      "Each candidate: ['Khan', 'Correy', 'Li', \"O'Tooley\"]\n",
      "Index: 3\n",
      "[2218231, 704200, 492940, 105630]\n"
     ]
    }
   ],
   "source": [
    "# Read the csv file with open\n",
    "with open(poll_csvpath)as csvfile:\n",
    "    csvreader = csv.reader(csvfile)\n",
    "    csv_header = next(csvreader)\n",
    "# Calculate the total votes cast by counting rows.  Use the incrementer function\n",
    "    for row in csvreader:\n",
    "        total_votes += 1\n",
    "        candidate = row[2]\n",
    "# Find a candidate in using index: Locate candidate already in list by index number and increment vote count by 1\n",
    "        \n",
    "        if candidate in unique_candidates:  \n",
    "            candidate_index = unique_candidates.index(candidate)\n",
    "            vote_count[candidate_index]= vote_count[candidate_index] + 1\n",
    "# else append unique_candidates list and add 1 to vote_count:\n",
    "        else:\n",
    "            unique_candidates.append(candidate)\n",
    "            vote_count.append(1)\n",
    "# Print the following variables:\n",
    "# Total Votes:\n",
    "print(f\"Total votes: {total_votes}\")\n",
    "# Unique canditates:\n",
    "print(f\"Each candidate: {unique_candidates}\")\n",
    "# index of unique candidates:\n",
    "print(f\"Index: {unique_candidates.index(candidate)}\")\n",
    "print(f\"{vote_count}\")"
   ]
  },
  {
   "cell_type": "code",
   "execution_count": 7,
   "metadata": {},
   "outputs": [
    {
     "name": "stdout",
     "output_type": "stream",
     "text": [
      "-----------------------------------------------------\n",
      "Each candiddtate's vote count: [2218231, 704200, 492940, 105630]\n",
      "Maximum votes: 2218231\n",
      "Election winner: Khan\n",
      "-----------------------------------------------------\n"
     ]
    }
   ],
   "source": [
    "percent = []\n",
    "max_vote = vote_count[0]\n",
    "max_vote_index =0\n",
    "\n",
    "for x in range(len(unique_candidates)):\n",
    "    vote_percent = round(vote_count[x]/total_votes*100, 2)\n",
    "    percent.append(vote_percent)\n",
    "    \n",
    "    if vote_count[x] > max_vote:\n",
    "        max_vote = vote_count[x]\n",
    "        max_vote_index = x\n",
    "        \n",
    "Election_winner = unique_candidates[max_vote_index]\n",
    "print(f'-----------------------------------------------------')\n",
    "# # Print the following results:\n",
    "print(f\"Each candiddtate's vote count: {vote_count}\")\n",
    "print(f'Maximum votes: {max_vote}')\n",
    "print(f'Election winner: {Election_winner}')\n",
    "print(f'-----------------------------------------------------')"
   ]
  },
  {
   "cell_type": "code",
   "execution_count": 13,
   "metadata": {
    "scrolled": true
   },
   "outputs": [],
   "source": [
    "# What else? Check\n",
    "\n",
    "# Now create ouput file\n",
    "\n",
    "output_file = os.path.join(\"..\", \"election_data.txt\")\n",
    "#  open output file\n",
    "\n",
    "with open(output_file, \"w\") as textfile:\n",
    "    \n",
    "    textfile.write(f\"===============================================================\\n\")\n",
    "    textfile.write(f\"Election Results\\n\")\n",
    "    \n",
    "    textfile.write(f\"===============================================================\\n\")\n",
    "    textfile.write(f\"Total Votes: {vote_count}\\n\")\n",
    "    textfile.write(f\"---------------------------------------------------------------\\n\")\n",
    "    textfile.write(f\"{unique_candidates[x]}: {percent[x]}% {vote_count[x]}\\n\")\n",
    "    textfile.write(f\"---------------------------------------------------------------\\n\")\n",
    "    textfile.write(f\"Election winner: {Election_winner.upper()}\\n\")\n",
    "    \n",
    "    textfile.write(f\"---------------------------------------------------------------\\n\")\n",
    "    textfile.write(f\"Total Votes: {vote_count}\\n\")\n",
    "    "
   ]
  },
  {
   "cell_type": "code",
   "execution_count": null,
   "metadata": {},
   "outputs": [],
   "source": []
  },
  {
   "cell_type": "code",
   "execution_count": null,
   "metadata": {},
   "outputs": [],
   "source": []
  }
 ],
 "metadata": {
  "kernelspec": {
   "display_name": "Python 3",
   "language": "python",
   "name": "python3"
  },
  "language_info": {
   "codemirror_mode": {
    "name": "ipython",
    "version": 3
   },
   "file_extension": ".py",
   "mimetype": "text/x-python",
   "name": "python",
   "nbconvert_exporter": "python",
   "pygments_lexer": "ipython3",
   "version": "3.7.6"
  }
 },
 "nbformat": 4,
 "nbformat_minor": 4
}
